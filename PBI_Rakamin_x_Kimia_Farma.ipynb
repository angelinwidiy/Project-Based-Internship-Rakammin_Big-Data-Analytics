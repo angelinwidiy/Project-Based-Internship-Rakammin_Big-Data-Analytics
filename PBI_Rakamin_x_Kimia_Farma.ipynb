{
  "nbformat": 4,
  "nbformat_minor": 0,
  "metadata": {
    "colab": {
      "provenance": []
    },
    "kernelspec": {
      "name": "python3",
      "display_name": "Python 3"
    },
    "language_info": {
      "name": "python"
    }
  },
  "cells": [
    {
      "cell_type": "code",
      "execution_count": null,
      "metadata": {
        "id": "ojmH3xdNnO97"
      },
      "outputs": [],
      "source": [
        "CREATE OR REPLACE TABLE kimia_farma.kf_analysis AS\n",
        "SELECT\n",
        "    tr.transaction_id,\n",
        "    tr.date,\n",
        "    br.branch_id,\n",
        "    br.branch_name,\n",
        "    br.kota,\n",
        "    br.provinsi,\n",
        "    br.rating AS rating_cabang,\n",
        "    tr.customer_name,\n",
        "    pr.product_id,\n",
        "    pr.product_name,\n",
        "    tr.price AS actual_price,\n",
        "    tr.discount_percentage,\n",
        "    -- Calculate nett_sales after discount\n",
        "    tr.price * (1 - tr.discount_percentage / 100) AS nett_sales,\n",
        "    -- Calculate profit percentage based on actual price\n",
        "    CASE\n",
        "        WHEN tr.price <= 50000 THEN 0.1\n",
        "        WHEN tr.price > 50000 AND tr.price <= 100000 THEN 0.15\n",
        "        WHEN tr.price > 100000 AND tr.price <= 300000 THEN 0.2\n",
        "        WHEN tr.price > 300000 AND tr.price <= 500000 THEN 0.25\n",
        "        ELSE 0.3\n",
        "    END AS persentase_gross_laba,\n",
        "    -- Calculate nett_profit using nett_sales and profit percentage\n",
        "    tr.price * (1 - tr.discount_percentage / 100) *\n",
        "    CASE\n",
        "        WHEN tr.price <= 50000 THEN 0.1\n",
        "        WHEN tr.price > 50000 AND tr.price <= 100000 THEN 0.15\n",
        "        WHEN tr.price > 100000 AND tr.price <= 300000 THEN 0.2\n",
        "        WHEN tr.price > 300000 AND tr.price <= 500000 THEN 0.25\n",
        "        ELSE 0.3\n",
        "    END AS nett_profit,\n",
        "    tr.rating AS rating_transaksi\n",
        "FROM\n",
        "    kimia_farma.kf_final_transaction AS tr\n",
        "JOIN\n",
        "    kimia_farma.kf_product AS pr ON tr.product_id = pr.product_id\n",
        "JOIN\n",
        "    kimia_farma.kf_kantor_cabang AS br ON tr.branch_id = br.branch_id;\n"
      ]
    }
  ]
}